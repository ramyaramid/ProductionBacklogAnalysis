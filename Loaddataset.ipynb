{
 "cells": [
  {
   "cell_type": "code",
   "execution_count": 67,
   "id": "4d13041e-f2e3-47ea-8fbd-5445c052081a",
   "metadata": {
    "tags": []
   },
   "outputs": [],
   "source": [
    "import pandas as pd\n",
    "import numpy as np\n",
    "import matplotlib.pyplot as plt\n",
    "import seaborn as sns\n",
    "import psycopg2"
   ]
  },
  {
   "cell_type": "code",
   "execution_count": 78,
   "id": "a2bc13da-52e4-4b14-aa8f-4f9126abf9eb",
   "metadata": {
    "tags": []
   },
   "outputs": [],
   "source": [
    "\n",
    "sample=pd.read_excel(\"C:/Users/Acer/OneDrive/Desktop/Job/Instagrid/data/manufactured_units_Jan.xlsx\")\n",
    "\n",
    "weeks=pd.read_excel(\"C:/Users/Acer/OneDrive/Desktop/Job/Instagrid/data/production_plan_2022.xlsx\")                "
   ]
  },
  {
   "cell_type": "code",
   "execution_count": 69,
   "id": "33ce0269-ef24-4795-9d75-c3d78d1ea8c0",
   "metadata": {
    "tags": []
   },
   "outputs": [
    {
     "data": {
      "text/plain": [
       "Index(['Date', 'Product 1', 'Product 2'], dtype='object')"
      ]
     },
     "execution_count": 69,
     "metadata": {},
     "output_type": "execute_result"
    }
   ],
   "source": [
    "sample.columns"
   ]
  },
  {
   "cell_type": "code",
   "execution_count": 79,
   "id": "e7dbc254-134d-45cb-8ebb-9958de60d7d4",
   "metadata": {
    "tags": []
   },
   "outputs": [
    {
     "data": {
      "text/html": [
       "<div>\n",
       "<style scoped>\n",
       "    .dataframe tbody tr th:only-of-type {\n",
       "        vertical-align: middle;\n",
       "    }\n",
       "\n",
       "    .dataframe tbody tr th {\n",
       "        vertical-align: top;\n",
       "    }\n",
       "\n",
       "    .dataframe thead th {\n",
       "        text-align: right;\n",
       "    }\n",
       "</style>\n",
       "<table border=\"1\" class=\"dataframe\">\n",
       "  <thead>\n",
       "    <tr style=\"text-align: right;\">\n",
       "      <th></th>\n",
       "      <th>Date</th>\n",
       "      <th>Product 1</th>\n",
       "      <th>Product 2</th>\n",
       "    </tr>\n",
       "  </thead>\n",
       "  <tbody>\n",
       "  </tbody>\n",
       "</table>\n",
       "</div>"
      ],
      "text/plain": [
       "Empty DataFrame\n",
       "Columns: [Date, Product 1, Product 2]\n",
       "Index: []"
      ]
     },
     "execution_count": 79,
     "metadata": {},
     "output_type": "execute_result"
    }
   ],
   "source": [
    "sample"
   ]
  },
  {
   "cell_type": "code",
   "execution_count": 71,
   "id": "072dcf2c-6ea5-4e39-bda1-5cde4a5424db",
   "metadata": {
    "tags": []
   },
   "outputs": [],
   "source": [
    "import glob\n",
    "file_list=glob.glob(\"C:/Users/Acer/OneDrive/Desktop/Job/Instagrid/data/m*.xlsx\")\n",
    "df=[]\n",
    "for file in file_list:\n",
    "      data=df.append(pd.read_excel(file))\n",
    "      df.append(data) \n",
    "    \n",
    "manufactured_units=pd.concat(df)\n",
    "manufactured_units=manufactured_units.rename(columns={'Date':'date','Product 1':'product1','Product 2':'product2'})\n",
    "manufactured_units['date']=pd.to_datetime(manufactured_units['date'],format=' %Y-%m-%d')\n",
    "production_plan=pd.read_excel(\"C:/Users/Acer/OneDrive/Desktop/Job/Instagrid/data/production_plan_2022.xlsx\")  \n",
    "production_plan=production_plan.rename(columns={'Week':'week','PN':'pn','Plan':'plan'})"
   ]
  },
  {
   "cell_type": "code",
   "execution_count": 72,
   "id": "629111c3-db91-4129-9dab-85539308ecd2",
   "metadata": {
    "tags": []
   },
   "outputs": [
    {
     "data": {
      "text/plain": [
       "104"
      ]
     },
     "execution_count": 72,
     "metadata": {},
     "output_type": "execute_result"
    }
   ],
   "source": [
    "from sqlalchemy import create_engine\n",
    "from sqlalchemy import URL\n",
    "\n",
    "url_object = URL.create(\n",
    "    \"postgresql+psycopg2\",\n",
    "    username=\"****\",\n",
    "    password=\"*****\",  # plain (unescaped) text\n",
    "    host=\"localhost\",\n",
    "    port=5435,\n",
    "    database=\"instagrid\",\n",
    ")\n",
    "\n",
    "engine = create_engine(url_object)\n",
    "\n",
    "manufactured_units.to_sql('manufactured_units', engine)\n",
    "production_plan.to_sql('production_plan',engine)"
   ]
  }
 ],
 "metadata": {
  "kernelspec": {
   "display_name": "Python 3 (ipykernel)",
   "language": "python",
   "name": "python3"
  },
  "language_info": {
   "codemirror_mode": {
    "name": "ipython",
    "version": 3
   },
   "file_extension": ".py",
   "mimetype": "text/x-python",
   "name": "python",
   "nbconvert_exporter": "python",
   "pygments_lexer": "ipython3",
   "version": "3.10.11"
  }
 },
 "nbformat": 4,
 "nbformat_minor": 5
}
